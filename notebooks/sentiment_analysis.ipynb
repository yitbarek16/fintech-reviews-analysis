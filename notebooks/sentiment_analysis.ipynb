{
 "cells": [
  {
   "cell_type": "markdown",
   "id": "07bc4b23",
   "metadata": {},
   "source": [
    "# Task 2: Sentiment and Thematic Analysis"
   ]
  },
  {
   "cell_type": "markdown",
   "id": "814ee36a",
   "metadata": {},
   "source": [
    "### Sentiment Analysis"
   ]
  },
  {
   "cell_type": "code",
   "execution_count": 8,
   "id": "b5bfea9f",
   "metadata": {},
   "outputs": [
    {
     "name": "stderr",
     "output_type": "stream",
     "text": [
      "100%|██████████| 6817/6817 [03:20<00:00, 34.00it/s]\n"
     ]
    },
    {
     "name": "stdout",
     "output_type": "stream",
     "text": [
      "Saved 6817 analyzed reviews\n"
     ]
    }
   ],
   "source": [
    "from textblob import TextBlob\n",
    "from vaderSentiment.vaderSentiment import SentimentIntensityAnalyzer\n",
    "import pandas as pd\n",
    "from tqdm import tqdm\n",
    "\n",
    "def hybrid_sentiment(text):\n",
    "    \"\"\"Combine TextBlob and VADER for robust analysis\"\"\"\n",
    "    text = str(text)\n",
    "    \n",
    "    # VADER (better for informal text)\n",
    "    vader = SentimentIntensityAnalyzer()\n",
    "    vader_score = vader.polarity_scores(text)['compound']\n",
    "    \n",
    "    # TextBlob (better for formal text)\n",
    "    tb_score = TextBlob(text).sentiment.polarity\n",
    "    \n",
    "    # Combined score (weighted average)\n",
    "    combined_score = (vader_score * 0.6) + (tb_score * 0.4)\n",
    "    \n",
    "    # Determine label\n",
    "    if combined_score > 0.05:\n",
    "        return \"positive\", combined_score\n",
    "    elif combined_score < -0.05:\n",
    "        return \"negative\", combined_score\n",
    "    return \"neutral\", combined_score\n",
    "\n",
    "# Load data\n",
    "df = pd.read_csv(\"Dataset/ETHbanks_mobileApp_reviews_clean.csv\")\n",
    "\n",
    "# Process with progress bar\n",
    "tqdm.pandas()\n",
    "df[['sentiment_label', 'sentiment_score']] = df['review'].progress_apply(\n",
    "    lambda x: pd.Series(hybrid_sentiment(x)))\n",
    "\n",
    "# Save results\n",
    "df.to_csv(\"Dataset/reviews_with_sentiment.csv\", index=False)\n",
    "print(f\"Saved {len(df)} analyzed reviews\")"
   ]
  }
 ],
 "metadata": {
  "kernelspec": {
   "display_name": "base",
   "language": "python",
   "name": "python3"
  },
  "language_info": {
   "codemirror_mode": {
    "name": "ipython",
    "version": 3
   },
   "file_extension": ".py",
   "mimetype": "text/x-python",
   "name": "python",
   "nbconvert_exporter": "python",
   "pygments_lexer": "ipython3",
   "version": "3.12.4"
  }
 },
 "nbformat": 4,
 "nbformat_minor": 5
}
