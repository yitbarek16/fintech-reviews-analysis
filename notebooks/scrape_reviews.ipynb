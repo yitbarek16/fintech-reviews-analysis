{
 "cells": [
  {
   "cell_type": "markdown",
   "id": "7dde0792",
   "metadata": {},
   "source": [
    "# Task 1: Data Collection"
   ]
  },
  {
   "cell_type": "markdown",
   "id": "b7d54e77",
   "metadata": {},
   "source": [
    "### Web Scraping"
   ]
  },
  {
   "cell_type": "code",
   "execution_count": 8,
   "id": "d00c51c2",
   "metadata": {},
   "outputs": [
    {
     "name": "stdout",
     "output_type": "stream",
     "text": [
      "Scraping Commercial Bank of Ethiopia...\n",
      "→ Collected 7496 reviews\n",
      "Scraping Bank of Abyssinia...\n",
      "→ Collected 1044 reviews\n",
      "Scraping Dashen Bank...\n",
      "→ Collected 448 reviews\n",
      "\n",
      " Saved 8988 total reviews to 'ethiopian_bank_reviews.csv'\n"
     ]
    }
   ],
   "source": [
    "from google_play_scraper import Sort, reviews_all\n",
    "import pandas as pd\n",
    "from time import sleep\n",
    "import random\n",
    "\n",
    "BANKS = {\n",
    "    \"Commercial Bank of Ethiopia\": \"com.combanketh.mobilebanking\",\n",
    "    \"Bank of Abyssinia\": \"com.boa.boaMobileBanking\",\n",
    "    \"Dashen Bank\": \"com.dashen.dashensuperapp\"\n",
    "}\n",
    "\n",
    "def scrape_all_reviews(app_id, bank_name):\n",
    "    try:\n",
    "        sleep(random.uniform(1, 3))  # Random delay\n",
    "        \n",
    "        # Get ALL available reviews\n",
    "        reviews = reviews_all(\n",
    "            app_id,\n",
    "            lang='en',\n",
    "            country='et',\n",
    "            sort=Sort.NEWEST,\n",
    "            sleep_milliseconds=2000  # Slower = more reliable\n",
    "        )\n",
    "        \n",
    "        # Convert to DataFrame with EXACT columns you requested\n",
    "        df = pd.DataFrame(reviews)[['content', 'score', 'at']]\n",
    "        df.columns = ['review', 'rating', 'date']  # Rename columns\n",
    "        df['bank'] = bank_name\n",
    "        df['source'] = 'Google Play'  # Static value because i am scraping all from Google Play\n",
    "        \n",
    "        return df\n",
    "    \n",
    "    except Exception as e:\n",
    "        print(f\"⚠️ Error scraping {bank_name}: {str(e)}\")\n",
    "        return pd.DataFrame(columns=['review', 'rating', 'date', 'bank', 'source'])\n",
    "\n",
    "# Scrape all banks\n",
    "all_reviews = []\n",
    "for bank_name, app_id in BANKS.items():\n",
    "    print(f\"Scraping {bank_name}...\")\n",
    "    bank_reviews = scrape_all_reviews(app_id, bank_name)\n",
    "    print(f\"→ Collected {len(bank_reviews)} reviews\")\n",
    "    all_reviews.append(bank_reviews)\n",
    "    sleep(5)  # Pause between banks\n",
    "\n",
    "# Combine and save\n",
    "final_df = pd.concat(all_reviews, ignore_index=True)\n",
    "final_df.to_csv(\"Dataset/ethiopian_banks_mobileApp_reviews.csv\", index=False)\n",
    "print(f\"\\n Saved {len(final_df)} total reviews to 'ethiopian_bank_reviews.csv'\")"
   ]
  }
 ],
 "metadata": {
  "kernelspec": {
   "display_name": "base",
   "language": "python",
   "name": "python3"
  },
  "language_info": {
   "codemirror_mode": {
    "name": "ipython",
    "version": 3
   },
   "file_extension": ".py",
   "mimetype": "text/x-python",
   "name": "python",
   "nbconvert_exporter": "python",
   "pygments_lexer": "ipython3",
   "version": "3.12.4"
  }
 },
 "nbformat": 4,
 "nbformat_minor": 5
}
