{
 "cells": [
  {
   "cell_type": "markdown",
   "id": "52f96498",
   "metadata": {},
   "source": [
    "### Preprocessing"
   ]
  },
  {
   "cell_type": "code",
   "execution_count": 2,
   "id": "4b90cfda",
   "metadata": {},
   "outputs": [
    {
     "name": "stdout",
     "output_type": "stream",
     "text": [
      "Preprocessing complete! Saved to 'bank_reviews_clean.csv'\n"
     ]
    }
   ],
   "source": [
    "import pandas as pd\n",
    "from datetime import datetime\n",
    "\n",
    "# Load raw data\n",
    "df = pd.read_csv(\"ethiopian_banks_mobileApp_reviews.csv\")\n",
    "\n",
    "# Remove duplicates\n",
    "df = df.drop_duplicates(subset=[\"review\", \"bank\"])\n",
    "\n",
    "# Handle missing data (drop rows with missing reviews)\n",
    "df = df.dropna(subset=[\"review\"])\n",
    "\n",
    "# Normalize dates (YYYY-MM-DD)\n",
    "df[\"date\"] = pd.to_datetime(df[\"date\"]).dt.strftime(\"%Y-%m-%d\")\n",
    "\n",
    "# Save cleaned data\n",
    "df.to_csv(\"ETHbanks_mobileApp_reviews_clean.csv\", index=False)\n",
    "print(\"Preprocessing complete! Saved to 'bank_reviews_clean.csv'\")"
   ]
  }
 ],
 "metadata": {
  "kernelspec": {
   "display_name": "base",
   "language": "python",
   "name": "python3"
  },
  "language_info": {
   "codemirror_mode": {
    "name": "ipython",
    "version": 3
   },
   "file_extension": ".py",
   "mimetype": "text/x-python",
   "name": "python",
   "nbconvert_exporter": "python",
   "pygments_lexer": "ipython3",
   "version": "3.12.4"
  }
 },
 "nbformat": 4,
 "nbformat_minor": 5
}
