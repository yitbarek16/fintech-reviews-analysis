{
 "cells": [
  {
   "cell_type": "markdown",
   "id": "f1bd8544",
   "metadata": {},
   "source": [
    "# Store Cleaned Data in Oracle"
   ]
  },
  {
   "cell_type": "code",
   "execution_count": 6,
   "id": "381281e7",
   "metadata": {},
   "outputs": [
    {
     "name": "stdout",
     "output_type": "stream",
     "text": [
      "Inserted 6817 records\n"
     ]
    }
   ],
   "source": [
    "import oracledb\n",
    "import pandas as pd\n",
    "\n",
    "# Connect to Oracle (update credentials)\n",
    "connection = oracledb.connect(\n",
    "    user=\"system\",\n",
    "    password=\"root\",\n",
    "    dsn=\"localhost:1521/XE\"\n",
    ")\n",
    "cursor = connection.cursor()\n",
    "\n",
    "# Load your CSV\n",
    "df = pd.read_csv(\"Dataset/ETHbanks_mobileApp_reviews_clean.csv\")  # Update path\n",
    "df['date'] = pd.to_datetime(df['date'], format='%m/%d/%Y').dt.strftime('%Y-%m-%d')\n",
    "# Then use TO_DATE(:date_value, 'YYYY-MM-DD') in SQL\n",
    "# Insert data\n",
    "for _, row in df.iterrows():\n",
    "    cursor.execute(\"\"\"\n",
    "        INSERT INTO reviews (\n",
    "            bank_id, review_text, rating, review_date, source\n",
    "        ) VALUES (\n",
    "            (SELECT bank_id FROM banks WHERE bank_name = :bank_name),\n",
    "            :review_text, :rating_value, TO_DATE(:date_value, 'YYYY-MM-DD'), :source_name\n",
    "        )\n",
    "        \"\"\",\n",
    "        bank_name=row['bank'],\n",
    "        review_text=row['review'],\n",
    "        rating_value=row['rating'],\n",
    "        date_value=row['date'],\n",
    "        source_name=row['source']\n",
    "    )\n",
    "\n",
    "connection.commit()\n",
    "print(f\"Inserted {len(df)} records\")\n",
    "cursor.close()\n",
    "connection.close()"
   ]
  }
 ],
 "metadata": {
  "kernelspec": {
   "display_name": "base",
   "language": "python",
   "name": "python3"
  },
  "language_info": {
   "codemirror_mode": {
    "name": "ipython",
    "version": 3
   },
   "file_extension": ".py",
   "mimetype": "text/x-python",
   "name": "python",
   "nbconvert_exporter": "python",
   "pygments_lexer": "ipython3",
   "version": "3.12.4"
  }
 },
 "nbformat": 4,
 "nbformat_minor": 5
}
